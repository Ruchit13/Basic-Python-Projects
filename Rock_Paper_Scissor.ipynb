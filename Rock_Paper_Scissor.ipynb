{
  "nbformat": 4,
  "nbformat_minor": 0,
  "metadata": {
    "colab": {
      "name": "Rock Paper Scissor",
      "provenance": [],
      "authorship_tag": "ABX9TyMKmcSegYG3UBv8KoHTvABt",
      "include_colab_link": true
    },
    "kernelspec": {
      "name": "python3",
      "display_name": "Python 3"
    },
    "language_info": {
      "name": "python"
    }
  },
  "cells": [
    {
      "cell_type": "markdown",
      "metadata": {
        "id": "view-in-github",
        "colab_type": "text"
      },
      "source": [
        "<a href=\"https://colab.research.google.com/github/Ruchit13/Basic-Python-Projects/blob/main/Rock_Paper_Scissor.ipynb\" target=\"_parent\"><img src=\"https://colab.research.google.com/assets/colab-badge.svg\" alt=\"Open In Colab\"/></a>"
      ]
    },
    {
      "cell_type": "markdown",
      "metadata": {
        "id": "fzWCfAQAbvgB"
      },
      "source": [
        "Game of Rock, Paper and Scissor\n"
      ]
    },
    {
      "cell_type": "code",
      "metadata": {
        "id": "qZz9JVHfbyDp"
      },
      "source": [
        "import random\n",
        "\n",
        "def play():\n",
        "  user = input(\"What's your choice('r' for rock, 'p' for paper, 's' for scissor): \")\n",
        "  computer = random.choice(['p','r','s'])\n",
        "  if user == computer:\n",
        "    return \"It's a tie\"\n",
        "  if iswin(user,computer):\n",
        "    return \"You Won!\"\n",
        "  return \"You lost!\"\n",
        "\n",
        "def iswin(player, opponent):\n",
        "  if((player=='r' and opponent =='s') or (player =='s' and opponent=='p') or (player=='p' and opponent=='r')):\n",
        "    return True\n",
        "\n",
        "print(play())\n"
      ],
      "execution_count": null,
      "outputs": []
    }
  ]
}