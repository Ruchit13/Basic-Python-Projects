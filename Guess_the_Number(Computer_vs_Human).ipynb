{
  "nbformat": 4,
  "nbformat_minor": 0,
  "metadata": {
    "colab": {
      "name": "Guess the Number(Computer vs Human)",
      "provenance": [],
      "authorship_tag": "ABX9TyMq6dR0Bmj22JCpPR2OmLc4",
      "include_colab_link": true
    },
    "kernelspec": {
      "name": "python3",
      "display_name": "Python 3"
    },
    "language_info": {
      "name": "python"
    }
  },
  "cells": [
    {
      "cell_type": "markdown",
      "metadata": {
        "id": "view-in-github",
        "colab_type": "text"
      },
      "source": [
        "<a href=\"https://colab.research.google.com/github/Ruchit13/Basic-Python-Projects/blob/main/Guess_the_Number(Computer_vs_Human).ipynb\" target=\"_parent\"><img src=\"https://colab.research.google.com/assets/colab-badge.svg\" alt=\"Open In Colab\"/></a>"
      ]
    },
    {
      "cell_type": "markdown",
      "metadata": {
        "id": "xbIiZzSSyTcD"
      },
      "source": [
        "Guess the number : Computer vs Human\n",
        "---\n",
        "Plot twist :: Computer gets only 3 chances\n"
      ]
    },
    {
      "cell_type": "code",
      "metadata": {
        "id": "NnhU0wCurFR9"
      },
      "source": [
        "import random\n",
        "import time\n",
        "\n",
        "def computer_guess():\n",
        "  low = 1\n",
        "  high = 10\n",
        "  flag=3\n",
        "  act_num=int(input(f'Assign the secret number that you want the computer to guess between {low} and {high}'))\n",
        "  print('Its the time for me,the computer to guess your number.Sigh,i just have 3 chances ')\n",
        "  random_number = 0\n",
        "  while random_number!=act_num and flag!=0:\n",
        "    random_number = random.randint(low,high)\n",
        "    time.sleep(3)\n",
        "    print(\"......\")\n",
        "    print(f'''i've guessed the number, its {random_number}''')\n",
        "    if random_number > act_num :\n",
        "      print(\"go low bruv\")\n",
        "      \n",
        "    elif random_number < act_num: \n",
        "      print(\"go high bruv\")\n",
        "    \n",
        "    flag = flag-1;\n",
        "\n",
        "  time.sleep(1)\n",
        "  print(\"....\")\n",
        "  if flag==0:\n",
        "    if random_number==act_num:\n",
        "      print('yayyyayayay')\n",
        "    else: \n",
        "      print(\"sike, i suck\")\n",
        "\n",
        "computer_guess()"
      ],
      "execution_count": null,
      "outputs": []
    }
  ]
}