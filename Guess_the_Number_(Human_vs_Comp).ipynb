{
  "nbformat": 4,
  "nbformat_minor": 0,
  "metadata": {
    "colab": {
      "name": "Guess the Number (Human vs Comp)",
      "provenance": [],
      "collapsed_sections": [],
      "authorship_tag": "ABX9TyOg6l6Am8d1otW1aDtZjIZb",
      "include_colab_link": true
    },
    "kernelspec": {
      "name": "python3",
      "display_name": "Python 3"
    },
    "language_info": {
      "name": "python"
    }
  },
  "cells": [
    {
      "cell_type": "markdown",
      "metadata": {
        "id": "view-in-github",
        "colab_type": "text"
      },
      "source": [
        "<a href=\"https://colab.research.google.com/github/Ruchit13/Basic-Python-Projects/blob/main/Guess_the_Number_(Human_vs_Comp).ipynb\" target=\"_parent\"><img src=\"https://colab.research.google.com/assets/colab-badge.svg\" alt=\"Open In Colab\"/></a>"
      ]
    },
    {
      "cell_type": "markdown",
      "metadata": {
        "id": "JdpaE6gkyQ6G"
      },
      "source": [
        "Guess the number : Humans vs Computer\n"
      ]
    },
    {
      "cell_type": "code",
      "metadata": {
        "id": "FcwY_t9QkMwv"
      },
      "source": [
        "import random\n",
        "\n",
        "def guess(x):\n",
        "  random_number = random.randint(1,x)\n",
        "  number=0\n",
        "  while number!=random_number:\n",
        "    number = int(input(f\"Guess a number between 1 and {x} \"))\n",
        "    if number < random_number:\n",
        "      print(\" Oooh,too low,try again! \")\n",
        "    elif number > random_number:\n",
        "      print(\" Yikes,too high,get low hombre! \")\n",
        "  print(\"Yaaay, you've guessed it right! \")\n",
        "\n",
        "guess(10)"
      ],
      "execution_count": null,
      "outputs": []
    }
  ]
}